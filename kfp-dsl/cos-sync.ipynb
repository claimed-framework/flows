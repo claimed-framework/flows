{
 "cells": [
  {
   "attachments": {},
   "cell_type": "markdown",
   "metadata": {},
   "source": [
    "cos-sync"
   ]
  },
  {
   "attachments": {},
   "cell_type": "markdown",
   "metadata": {},
   "source": [
    "syncs two S3 compliant COS buckets (unidirectional)"
   ]
  },
  {
   "cell_type": "code",
   "execution_count": null,
   "metadata": {},
   "outputs": [],
   "source": [
    "!pip install kfp kfp-tekton"
   ]
  },
  {
   "cell_type": "code",
   "execution_count": null,
   "metadata": {},
   "outputs": [],
   "source": [
    "import kfp\n",
    "from kfp.components import create_component_from_func\n",
    "from kfp_tekton.compiler import TektonCompiler\n",
    "import kfp.dsl as dsl\n",
    "import kfp.dsl as dsl\n",
    "import kfp\n",
    "from kfp_tekton.compiler import TektonCompiler\n",
    "from kfp.compiler import Compiler\n",
    "import kfp.components as comp\n"
   ]
  },
  {
   "cell_type": "code",
   "execution_count": null,
   "metadata": {},
   "outputs": [],
   "source": [
    " \n",
    "util_cos = comp.load_component_from_url('https://raw.githubusercontent.com/claimed-framework/component-library/main/component-library/util/util-cos.yaml')\n",
    "#util_cos = comp.load_component_from_file('util-cos.yaml') # for testing locally"
   ]
  },
  {
   "cell_type": "code",
   "execution_count": null,
   "metadata": {},
   "outputs": [],
   "source": [
    "\n",
    "\n",
    "# Define your pipeline function\n",
    "@dsl.pipeline(\n",
    "    name=\"cos-sync\",\n",
    "    description=\"syncs two S3 compliant COS buckets (unidirectional)\"\n",
    ")\n",
    "def agb_inference_preprocess(\n",
    "        source_cos_path: str,\n",
    "        source_access_key_id: str,\n",
    "        source_secret_access_key: str,\n",
    "        source_endpoint: str,\n",
    "        source_bucket_name: str,\n",
    "        target_local_path: str,\n",
    "        target_access_key_id: str,\n",
    "        target_secret_access_key: str,\n",
    "        target_endpoint: str,\n",
    "        target_bucket_name: str,\n",
    "        buffer_dir: str = '/data/',\n",
    "        pvc_mount_path: str = '/data/',\n",
    "        pvc_name: str = 'kfp-data-pvc-z'\n",
    ",\n",
    "):\n",
    "  \n",
    "    step1 = util_cos(\n",
    "            access_key_id=source_access_key_id,\n",
    "            secret_access_key=source_secret_access_key,\n",
    "            endpoint=source_endpoint,\n",
    "            bucket_name=source_bucket_name,\n",
    "            path=source_cos_path,\n",
    "            recursive='True',\n",
    "            operation='sync_to_local',\n",
    "            target=buffer_dir,\n",
    "    )\n",
    "\n",
    "    step2 = util_cos(\n",
    "            access_key_id=target_access_key_id,\n",
    "            secret_access_key=target_secret_access_key,\n",
    "            endpoint=target_endpoint,\n",
    "            bucket_name=target_bucket_name,\n",
    "            source=str(buffer_dir)+str(target_local_path),\n",
    "            recursive='True',\n",
    "            operation='sync_to_cos',\n",
    "    )\n",
    "\n",
    "    step2.after(step1)\n",
    "\n",
    "\n",
    "    pipeline_volume = dsl.PipelineVolume(pvc=pvc_name)\n",
    "\n",
    "\n",
    "    step1.add_pvolumes({pvc_mount_path: pipeline_volume})\n",
    "    step2.add_pvolumes({pvc_mount_path: pipeline_volume})\n",
    "\n",
    "TektonCompiler().compile(agb_inference_preprocess, 'cos-sync.tekton.yaml')\n",
    "Compiler().compile(agb_inference_preprocess, 'cos-sync.argo.yaml')"
   ]
  },
  {
   "cell_type": "code",
   "execution_count": null,
   "metadata": {},
   "outputs": [],
   "source": []
  }
 ],
 "metadata": {
  "kernelspec": {
   "display_name": ".venv",
   "language": "python",
   "name": "python3"
  },
  "language_info": {
   "codemirror_mode": {
    "name": "ipython",
    "version": 3
   },
   "file_extension": ".py",
   "mimetype": "text/x-python",
   "name": "python",
   "nbconvert_exporter": "python",
   "pygments_lexer": "ipython3",
   "version": "3.11.3"
  },
  "orig_nbformat": 4
 },
 "nbformat": 4,
 "nbformat_minor": 2
}
